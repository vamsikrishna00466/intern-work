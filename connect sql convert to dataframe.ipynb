{
  "nbformat": 4,
  "nbformat_minor": 0,
  "metadata": {
    "colab": {
      "name": "convert sql data to dataframe date.ipynb",
      "provenance": [],
      "authorship_tag": "ABX9TyO/BBq15otpVc1fFnfeQfCE",
      "include_colab_link": true
    },
    "kernelspec": {
      "name": "python3",
      "display_name": "Python 3"
    }
  },
  "cells": [
    {
      "cell_type": "markdown",
      "metadata": {
        "id": "view-in-github",
        "colab_type": "text"
      },
      "source": [
        "<a href=\"https://colab.research.google.com/github/vamsikrishna00466/intern-work/blob/main/connect%20sql%20convert%20to%20dataframe.ipynb\" target=\"_parent\"><img src=\"https://colab.research.google.com/assets/colab-badge.svg\" alt=\"Open In Colab\"/></a>"
      ]
    },
    {
      "cell_type": "code",
      "metadata": {
        "id": "J_NGdfEBPemk"
      },
      "source": [
        "#importing relevant libraries\r\n",
        "import pandas as pd\r\n",
        "import mysql.connector as mysql"
      ],
      "execution_count": null,
      "outputs": []
    },
    {
      "cell_type": "code",
      "metadata": {
        "id": "b78pBnoyPpTA"
      },
      "source": [
        "########################## Connecting to the Database ##########################\r\n",
        "# enter your server IP address/domain name\r\n",
        "HOST = \"local host\" # or \"domain.com\"\r\n",
        "# database name, if you want just to connect to MySQL server, leave it empty\r\n",
        "DATABASE = \"database name\"\r\n",
        "# this is the user you create\r\n",
        "USER = \"username\"\r\n",
        "# user password\r\n",
        "PASSWORD = \"pass\"\r\n",
        "# connect to MySQL server\r\n",
        "db_connection = mysql.connect(host=HOST, user=USER, password=PASSWORD)\r\n",
        "print(\"Connected to:\", db_connection.get_server_info())\r\n",
        "cursor = db_connection.cursor()     # get the cursor\r\n",
        "\r\n",
        "#cursor.execute(\"SELECT * FROM instrument_details\")\r\n",
        "cursor.execute(\"use stock_production;\")\r\n",
        "cursor.execute(f\"SELECT id,script_name,start_date,start_time,open,high,low,close FROM cash_instruments WHERE start_date BETWEEN DATE('2019-12-01') AND DATE('2020-12-31');\") \r\n",
        "myresult = cursor.fetchall()\r\n",
        "df = pd.DataFrame(myresult, columns=[\"id\",\"script_name\",\"start_date\",\"start_time\",\"open\",\"high\",\"low\",\"close\"])\r\n"
      ],
      "execution_count": null,
      "outputs": []
    }
  ]
}