{
 "cells": [
  {
   "cell_type": "code",
   "execution_count": 1,
   "metadata": {},
   "outputs": [],
   "source": [
    "import pandas as pd\n",
    "import numpy as np"
   ]
  },
  {
   "cell_type": "code",
   "execution_count": 32,
   "metadata": {},
   "outputs": [],
   "source": [
    "df1 = pd.read_csv('Bank Nifty futures 2010 - 2019 (GFDL).csv')\n",
    "df2 = pd.read_excel('1.xlsx')\n",
    "df3 = pd.read_excel('Banknifty Backtesting .xlsx')"
   ]
  },
  {
   "cell_type": "code",
   "execution_count": 33,
   "metadata": {},
   "outputs": [],
   "source": [
    "df=df2[['Date', 'Trade Type', 'Bought At', 'Sold At', 'BuyTime', 'SellTime']]"
   ]
  },
  {
   "cell_type": "code",
   "execution_count": 34,
   "metadata": {},
   "outputs": [
    {
     "data": {
      "text/html": [
       "<div>\n",
       "<style scoped>\n",
       "    .dataframe tbody tr th:only-of-type {\n",
       "        vertical-align: middle;\n",
       "    }\n",
       "\n",
       "    .dataframe tbody tr th {\n",
       "        vertical-align: top;\n",
       "    }\n",
       "\n",
       "    .dataframe thead th {\n",
       "        text-align: right;\n",
       "    }\n",
       "</style>\n",
       "<table border=\"1\" class=\"dataframe\">\n",
       "  <thead>\n",
       "    <tr style=\"text-align: right;\">\n",
       "      <th></th>\n",
       "      <th>Date</th>\n",
       "      <th>Trade Type</th>\n",
       "      <th>Bought At</th>\n",
       "      <th>Sold At</th>\n",
       "      <th>BuyTime</th>\n",
       "      <th>SellTime</th>\n",
       "    </tr>\n",
       "  </thead>\n",
       "  <tbody>\n",
       "    <tr>\n",
       "      <th>0</th>\n",
       "      <td>2010-10-01</td>\n",
       "      <td>Long Sale</td>\n",
       "      <td>12464.400</td>\n",
       "      <td>12490.825</td>\n",
       "      <td>10:00:00</td>\n",
       "      <td>13:10:00</td>\n",
       "    </tr>\n",
       "    <tr>\n",
       "      <th>1</th>\n",
       "      <td>2010-10-01</td>\n",
       "      <td>Long Sale</td>\n",
       "      <td>12464.400</td>\n",
       "      <td>12578.750</td>\n",
       "      <td>13:15:00</td>\n",
       "      <td>15:10:00</td>\n",
       "    </tr>\n",
       "    <tr>\n",
       "      <th>2</th>\n",
       "      <td>2010-10-04</td>\n",
       "      <td>Long Sale</td>\n",
       "      <td>12749.500</td>\n",
       "      <td>12722.625</td>\n",
       "      <td>10:10:00</td>\n",
       "      <td>10:45:00</td>\n",
       "    </tr>\n",
       "    <tr>\n",
       "      <th>3</th>\n",
       "      <td>2010-10-04</td>\n",
       "      <td>Long Sale</td>\n",
       "      <td>12749.500</td>\n",
       "      <td>12695.125</td>\n",
       "      <td>10:55:00</td>\n",
       "      <td>13:00:00</td>\n",
       "    </tr>\n",
       "    <tr>\n",
       "      <th>4</th>\n",
       "      <td>2010-10-04</td>\n",
       "      <td>Short Sale</td>\n",
       "      <td>12715.075</td>\n",
       "      <td>12675.000</td>\n",
       "      <td>15:00:00</td>\n",
       "      <td>13:50:00</td>\n",
       "    </tr>\n",
       "  </tbody>\n",
       "</table>\n",
       "</div>"
      ],
      "text/plain": [
       "         Date  Trade Type  Bought At    Sold At   BuyTime  SellTime\n",
       "0  2010-10-01   Long Sale  12464.400  12490.825  10:00:00  13:10:00\n",
       "1  2010-10-01   Long Sale  12464.400  12578.750  13:15:00  15:10:00\n",
       "2  2010-10-04   Long Sale  12749.500  12722.625  10:10:00  10:45:00\n",
       "3  2010-10-04   Long Sale  12749.500  12695.125  10:55:00  13:00:00\n",
       "4  2010-10-04  Short Sale  12715.075  12675.000  15:00:00  13:50:00"
      ]
     },
     "execution_count": 34,
     "metadata": {},
     "output_type": "execute_result"
    }
   ],
   "source": [
    "df.head()"
   ]
  },
  {
   "cell_type": "code",
   "execution_count": 35,
   "metadata": {},
   "outputs": [
    {
     "name": "stderr",
     "output_type": "stream",
     "text": [
      "C:\\Users\\ssc\\anaconda3\\lib\\site-packages\\pandas\\core\\indexing.py:1596: SettingWithCopyWarning: \n",
      "A value is trying to be set on a copy of a slice from a DataFrame.\n",
      "Try using .loc[row_indexer,col_indexer] = value instead\n",
      "\n",
      "See the caveats in the documentation: https://pandas.pydata.org/pandas-docs/stable/user_guide/indexing.html#returning-a-view-versus-a-copy\n",
      "  self.obj[key] = _infer_fill_value(value)\n",
      "C:\\Users\\ssc\\anaconda3\\lib\\site-packages\\pandas\\core\\indexing.py:1745: SettingWithCopyWarning: \n",
      "A value is trying to be set on a copy of a slice from a DataFrame.\n",
      "Try using .loc[row_indexer,col_indexer] = value instead\n",
      "\n",
      "See the caveats in the documentation: https://pandas.pydata.org/pandas-docs/stable/user_guide/indexing.html#returning-a-view-versus-a-copy\n",
      "  isetter(ilocs[0], value)\n"
     ]
    }
   ],
   "source": [
    "#add time\n",
    "df.loc[df['Trade Type'] == 'Long Sale', 'Entry Date Time'] = df['Date'].astype(str)+' '+df['BuyTime'].astype(str)\n",
    "df.loc[df['Trade Type'] == 'Short Sale', 'Entry Date Time'] = df['Date'].astype(str)+' '+df['SellTime'].astype(str)\n",
    "df.loc[df['Trade Type'] == 'Long Sale', 'Ex. Date Time'] = df['Date'].astype(str)+' '+df['SellTime'].astype(str)\n",
    "df.loc[df['Trade Type'] == 'Short Sale', 'Ex. Date Time'] = df['Date'].astype(str)+' '+df['BuyTime'].astype(str)"
   ]
  },
  {
   "cell_type": "code",
   "execution_count": 36,
   "metadata": {},
   "outputs": [
    {
     "data": {
      "text/html": [
       "<div>\n",
       "<style scoped>\n",
       "    .dataframe tbody tr th:only-of-type {\n",
       "        vertical-align: middle;\n",
       "    }\n",
       "\n",
       "    .dataframe tbody tr th {\n",
       "        vertical-align: top;\n",
       "    }\n",
       "\n",
       "    .dataframe thead th {\n",
       "        text-align: right;\n",
       "    }\n",
       "</style>\n",
       "<table border=\"1\" class=\"dataframe\">\n",
       "  <thead>\n",
       "    <tr style=\"text-align: right;\">\n",
       "      <th></th>\n",
       "      <th>Date</th>\n",
       "      <th>Trade Type</th>\n",
       "      <th>Bought At</th>\n",
       "      <th>Sold At</th>\n",
       "      <th>BuyTime</th>\n",
       "      <th>SellTime</th>\n",
       "      <th>Entry Date Time</th>\n",
       "      <th>Ex. Date Time</th>\n",
       "    </tr>\n",
       "  </thead>\n",
       "  <tbody>\n",
       "    <tr>\n",
       "      <th>0</th>\n",
       "      <td>2010-10-01</td>\n",
       "      <td>Long Sale</td>\n",
       "      <td>12464.400</td>\n",
       "      <td>12490.825</td>\n",
       "      <td>10:00:00</td>\n",
       "      <td>13:10:00</td>\n",
       "      <td>2010-10-01 10:00:00</td>\n",
       "      <td>2010-10-01 13:10:00</td>\n",
       "    </tr>\n",
       "    <tr>\n",
       "      <th>1</th>\n",
       "      <td>2010-10-01</td>\n",
       "      <td>Long Sale</td>\n",
       "      <td>12464.400</td>\n",
       "      <td>12578.750</td>\n",
       "      <td>13:15:00</td>\n",
       "      <td>15:10:00</td>\n",
       "      <td>2010-10-01 13:15:00</td>\n",
       "      <td>2010-10-01 15:10:00</td>\n",
       "    </tr>\n",
       "    <tr>\n",
       "      <th>2</th>\n",
       "      <td>2010-10-04</td>\n",
       "      <td>Long Sale</td>\n",
       "      <td>12749.500</td>\n",
       "      <td>12722.625</td>\n",
       "      <td>10:10:00</td>\n",
       "      <td>10:45:00</td>\n",
       "      <td>2010-10-04 10:10:00</td>\n",
       "      <td>2010-10-04 10:45:00</td>\n",
       "    </tr>\n",
       "    <tr>\n",
       "      <th>3</th>\n",
       "      <td>2010-10-04</td>\n",
       "      <td>Long Sale</td>\n",
       "      <td>12749.500</td>\n",
       "      <td>12695.125</td>\n",
       "      <td>10:55:00</td>\n",
       "      <td>13:00:00</td>\n",
       "      <td>2010-10-04 10:55:00</td>\n",
       "      <td>2010-10-04 13:00:00</td>\n",
       "    </tr>\n",
       "    <tr>\n",
       "      <th>4</th>\n",
       "      <td>2010-10-04</td>\n",
       "      <td>Short Sale</td>\n",
       "      <td>12715.075</td>\n",
       "      <td>12675.000</td>\n",
       "      <td>15:00:00</td>\n",
       "      <td>13:50:00</td>\n",
       "      <td>2010-10-04 13:50:00</td>\n",
       "      <td>2010-10-04 15:00:00</td>\n",
       "    </tr>\n",
       "  </tbody>\n",
       "</table>\n",
       "</div>"
      ],
      "text/plain": [
       "         Date  Trade Type  Bought At    Sold At   BuyTime  SellTime  \\\n",
       "0  2010-10-01   Long Sale  12464.400  12490.825  10:00:00  13:10:00   \n",
       "1  2010-10-01   Long Sale  12464.400  12578.750  13:15:00  15:10:00   \n",
       "2  2010-10-04   Long Sale  12749.500  12722.625  10:10:00  10:45:00   \n",
       "3  2010-10-04   Long Sale  12749.500  12695.125  10:55:00  13:00:00   \n",
       "4  2010-10-04  Short Sale  12715.075  12675.000  15:00:00  13:50:00   \n",
       "\n",
       "       Entry Date Time        Ex. Date Time  \n",
       "0  2010-10-01 10:00:00  2010-10-01 13:10:00  \n",
       "1  2010-10-01 13:15:00  2010-10-01 15:10:00  \n",
       "2  2010-10-04 10:10:00  2010-10-04 10:45:00  \n",
       "3  2010-10-04 10:55:00  2010-10-04 13:00:00  \n",
       "4  2010-10-04 13:50:00  2010-10-04 15:00:00  "
      ]
     },
     "execution_count": 36,
     "metadata": {},
     "output_type": "execute_result"
    }
   ],
   "source": [
    "df.head()"
   ]
  },
  {
   "cell_type": "code",
   "execution_count": 37,
   "metadata": {},
   "outputs": [
    {
     "name": "stderr",
     "output_type": "stream",
     "text": [
      "C:\\Users\\ssc\\anaconda3\\lib\\site-packages\\pandas\\core\\indexing.py:1596: SettingWithCopyWarning: \n",
      "A value is trying to be set on a copy of a slice from a DataFrame.\n",
      "Try using .loc[row_indexer,col_indexer] = value instead\n",
      "\n",
      "See the caveats in the documentation: https://pandas.pydata.org/pandas-docs/stable/user_guide/indexing.html#returning-a-view-versus-a-copy\n",
      "  self.obj[key] = _infer_fill_value(value)\n",
      "C:\\Users\\ssc\\anaconda3\\lib\\site-packages\\pandas\\core\\indexing.py:1745: SettingWithCopyWarning: \n",
      "A value is trying to be set on a copy of a slice from a DataFrame.\n",
      "Try using .loc[row_indexer,col_indexer] = value instead\n",
      "\n",
      "See the caveats in the documentation: https://pandas.pydata.org/pandas-docs/stable/user_guide/indexing.html#returning-a-view-versus-a-copy\n",
      "  isetter(ilocs[0], value)\n"
     ]
    }
   ],
   "source": [
    "#entry exit\n",
    "df.loc[df['Trade Type'] == 'Long Sale', 'EntryPrice'] = df['Bought At']\n",
    "df.loc[df['Trade Type'] == 'Short Sale', 'EntryPrice'] = df['Sold At']\n",
    "df.loc[df['Trade Type'] == 'Long Sale', 'Exit Price'] = df['Sold At']\n",
    "df.loc[df['Trade Type'] == 'Short Sale', 'Exit Price'] = df['Bought At']"
   ]
  },
  {
   "cell_type": "code",
   "execution_count": 45,
   "metadata": {},
   "outputs": [],
   "source": [
    "df.loc[df['Trade Type'] == 'Long Sale', 'Trade'] = 'Long'\n",
    "df.loc[df['Trade Type'] == 'Short Sale', 'Trade'] = 'Short'"
   ]
  },
  {
   "cell_type": "code",
   "execution_count": 40,
   "metadata": {},
   "outputs": [],
   "source": [
    "df=df[['Date', 'Trade Type', 'Entry Date Time', 'Ex. Date Time', 'EntryPrice', 'Exit Price']]"
   ]
  },
  {
   "cell_type": "code",
   "execution_count": 50,
   "metadata": {},
   "outputs": [
    {
     "data": {
      "text/html": [
       "<div>\n",
       "<style scoped>\n",
       "    .dataframe tbody tr th:only-of-type {\n",
       "        vertical-align: middle;\n",
       "    }\n",
       "\n",
       "    .dataframe tbody tr th {\n",
       "        vertical-align: top;\n",
       "    }\n",
       "\n",
       "    .dataframe thead th {\n",
       "        text-align: right;\n",
       "    }\n",
       "</style>\n",
       "<table border=\"1\" class=\"dataframe\">\n",
       "  <thead>\n",
       "    <tr style=\"text-align: right;\">\n",
       "      <th></th>\n",
       "      <th>Trade</th>\n",
       "      <th>Entry Date Time</th>\n",
       "      <th>Ex. Date Time</th>\n",
       "      <th>EntryPrice</th>\n",
       "      <th>Exit Price</th>\n",
       "    </tr>\n",
       "  </thead>\n",
       "  <tbody>\n",
       "    <tr>\n",
       "      <th>0</th>\n",
       "      <td>Long</td>\n",
       "      <td>2010-10-01 10:00:00</td>\n",
       "      <td>2010-10-01 13:10:00</td>\n",
       "      <td>12464.4</td>\n",
       "      <td>12490.825</td>\n",
       "    </tr>\n",
       "    <tr>\n",
       "      <th>1</th>\n",
       "      <td>Long</td>\n",
       "      <td>2010-10-01 13:15:00</td>\n",
       "      <td>2010-10-01 15:10:00</td>\n",
       "      <td>12464.4</td>\n",
       "      <td>12578.750</td>\n",
       "    </tr>\n",
       "    <tr>\n",
       "      <th>2</th>\n",
       "      <td>Long</td>\n",
       "      <td>2010-10-04 10:10:00</td>\n",
       "      <td>2010-10-04 10:45:00</td>\n",
       "      <td>12749.5</td>\n",
       "      <td>12722.625</td>\n",
       "    </tr>\n",
       "    <tr>\n",
       "      <th>3</th>\n",
       "      <td>Long</td>\n",
       "      <td>2010-10-04 10:55:00</td>\n",
       "      <td>2010-10-04 13:00:00</td>\n",
       "      <td>12749.5</td>\n",
       "      <td>12695.125</td>\n",
       "    </tr>\n",
       "    <tr>\n",
       "      <th>4</th>\n",
       "      <td>Short</td>\n",
       "      <td>2010-10-04 13:50:00</td>\n",
       "      <td>2010-10-04 15:00:00</td>\n",
       "      <td>12675.0</td>\n",
       "      <td>12715.075</td>\n",
       "    </tr>\n",
       "  </tbody>\n",
       "</table>\n",
       "</div>"
      ],
      "text/plain": [
       "   Trade      Entry Date Time        Ex. Date Time  EntryPrice  Exit Price\n",
       "0   Long  2010-10-01 10:00:00  2010-10-01 13:10:00     12464.4   12490.825\n",
       "1   Long  2010-10-01 13:15:00  2010-10-01 15:10:00     12464.4   12578.750\n",
       "2   Long  2010-10-04 10:10:00  2010-10-04 10:45:00     12749.5   12722.625\n",
       "3   Long  2010-10-04 10:55:00  2010-10-04 13:00:00     12749.5   12695.125\n",
       "4  Short  2010-10-04 13:50:00  2010-10-04 15:00:00     12675.0   12715.075"
      ]
     },
     "execution_count": 50,
     "metadata": {},
     "output_type": "execute_result"
    }
   ],
   "source": [
    "df.head()"
   ]
  },
  {
   "cell_type": "code",
   "execution_count": 49,
   "metadata": {},
   "outputs": [],
   "source": [
    "df=df[['Trade', 'Entry Date Time', 'Ex. Date Time', 'EntryPrice', 'Exit Price']]"
   ]
  },
  {
   "cell_type": "code",
   "execution_count": 44,
   "metadata": {},
   "outputs": [
    {
     "data": {
      "text/html": [
       "<div>\n",
       "<style scoped>\n",
       "    .dataframe tbody tr th:only-of-type {\n",
       "        vertical-align: middle;\n",
       "    }\n",
       "\n",
       "    .dataframe tbody tr th {\n",
       "        vertical-align: top;\n",
       "    }\n",
       "\n",
       "    .dataframe thead th {\n",
       "        text-align: right;\n",
       "    }\n",
       "</style>\n",
       "<table border=\"1\" class=\"dataframe\">\n",
       "  <thead>\n",
       "    <tr style=\"text-align: right;\">\n",
       "      <th></th>\n",
       "      <th>Symbol</th>\n",
       "      <th>Trade</th>\n",
       "      <th>Entry Date Time</th>\n",
       "      <th>EntryPrice</th>\n",
       "      <th>Ex. Date Time</th>\n",
       "      <th>Exit Price</th>\n",
       "    </tr>\n",
       "  </thead>\n",
       "  <tbody>\n",
       "    <tr>\n",
       "      <th>0</th>\n",
       "      <td>BANKNIFTY-I</td>\n",
       "      <td>Long</td>\n",
       "      <td>2010-01-04 11:40:00</td>\n",
       "      <td>9078.634</td>\n",
       "      <td>2010-01-04 15:15:00</td>\n",
       "      <td>9110.9</td>\n",
       "    </tr>\n",
       "    <tr>\n",
       "      <th>1</th>\n",
       "      <td>BANKNIFTY-I</td>\n",
       "      <td>Long</td>\n",
       "      <td>2010-01-05 13:30:00</td>\n",
       "      <td>9190.452</td>\n",
       "      <td>2010-01-05 15:15:00</td>\n",
       "      <td>9175.0</td>\n",
       "    </tr>\n",
       "    <tr>\n",
       "      <th>2</th>\n",
       "      <td>BANKNIFTY-I</td>\n",
       "      <td>Long</td>\n",
       "      <td>2010-01-06 09:35:00</td>\n",
       "      <td>9216.372</td>\n",
       "      <td>2010-01-06 15:15:00</td>\n",
       "      <td>9216.0</td>\n",
       "    </tr>\n",
       "    <tr>\n",
       "      <th>3</th>\n",
       "      <td>BANKNIFTY-I</td>\n",
       "      <td>Short</td>\n",
       "      <td>2010-01-07 09:30:00</td>\n",
       "      <td>9151.100</td>\n",
       "      <td>2010-01-07 10:20:00</td>\n",
       "      <td>9184.9</td>\n",
       "    </tr>\n",
       "    <tr>\n",
       "      <th>4</th>\n",
       "      <td>BANKNIFTY-I</td>\n",
       "      <td>Long</td>\n",
       "      <td>2010-01-07 10:20:00</td>\n",
       "      <td>9183.000</td>\n",
       "      <td>2010-01-07 12:00:00</td>\n",
       "      <td>9151.1</td>\n",
       "    </tr>\n",
       "  </tbody>\n",
       "</table>\n",
       "</div>"
      ],
      "text/plain": [
       "        Symbol  Trade     Entry Date Time  EntryPrice       Ex. Date Time  \\\n",
       "0  BANKNIFTY-I   Long 2010-01-04 11:40:00    9078.634 2010-01-04 15:15:00   \n",
       "1  BANKNIFTY-I   Long 2010-01-05 13:30:00    9190.452 2010-01-05 15:15:00   \n",
       "2  BANKNIFTY-I   Long 2010-01-06 09:35:00    9216.372 2010-01-06 15:15:00   \n",
       "3  BANKNIFTY-I  Short 2010-01-07 09:30:00    9151.100 2010-01-07 10:20:00   \n",
       "4  BANKNIFTY-I   Long 2010-01-07 10:20:00    9183.000 2010-01-07 12:00:00   \n",
       "\n",
       "   Exit Price  \n",
       "0      9110.9  \n",
       "1      9175.0  \n",
       "2      9216.0  \n",
       "3      9184.9  \n",
       "4      9151.1  "
      ]
     },
     "execution_count": 44,
     "metadata": {},
     "output_type": "execute_result"
    }
   ],
   "source": [
    "df3.head()"
   ]
  },
  {
   "cell_type": "code",
   "execution_count": 51,
   "metadata": {},
   "outputs": [],
   "source": [
    "df.to_excel(\"Backtesting_output.xlsx\")  "
   ]
  },
  {
   "cell_type": "code",
   "execution_count": null,
   "metadata": {},
   "outputs": [],
   "source": []
  }
 ],
 "metadata": {
  "kernelspec": {
   "display_name": "Python 3",
   "language": "python",
   "name": "python3"
  },
  "language_info": {
   "codemirror_mode": {
    "name": "ipython",
    "version": 3
   },
   "file_extension": ".py",
   "mimetype": "text/x-python",
   "name": "python",
   "nbconvert_exporter": "python",
   "pygments_lexer": "ipython3",
   "version": "3.8.5"
  }
 },
 "nbformat": 4,
 "nbformat_minor": 4
}
