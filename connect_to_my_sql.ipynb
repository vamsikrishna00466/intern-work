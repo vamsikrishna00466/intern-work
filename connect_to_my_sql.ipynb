{
  "nbformat": 4,
  "nbformat_minor": 0,
  "metadata": {
    "colab": {
      "name": "connect to my sql.ipynb",
      "provenance": [],
      "authorship_tag": "ABX9TyMbhJzgVr5d8lwVMZW0HTaG",
      "include_colab_link": true
    },
    "kernelspec": {
      "name": "python3",
      "display_name": "Python 3"
    }
  },
  "cells": [
    {
      "cell_type": "markdown",
      "metadata": {
        "id": "view-in-github",
        "colab_type": "text"
      },
      "source": [
        "<a href=\"https://colab.research.google.com/github/vamsikrishna00466/intern-work/blob/main/connect_to_my_sql.ipynb\" target=\"_parent\"><img src=\"https://colab.research.google.com/assets/colab-badge.svg\" alt=\"Open In Colab\"/></a>"
      ]
    },
    {
      "cell_type": "code",
      "metadata": {
        "id": "DzEXzUDN7lIh"
      },
      "source": [
        "#for all rows\r\n",
        "import mysql.connector\r\n",
        "\r\n",
        "mydb = mysql.connector.connect(\r\n",
        "  host=\"localhost\",\r\n",
        "  user=\"yourusername\",\r\n",
        "  password=\"yourpassword\",\r\n",
        "  database=\"mydatabase\"\r\n",
        ")\r\n",
        "\r\n",
        "mycursor = mydb.cursor()\r\n",
        "\r\n",
        "mycursor.execute(\"SELECT * FROM customers\")\r\n",
        "\r\n",
        "myresult = mycursor.fetchall()\r\n",
        "\r\n",
        "for x in myresult:\r\n",
        "  print(x)\r\n"
      ],
      "execution_count": null,
      "outputs": []
    },
    {
      "cell_type": "code",
      "metadata": {
        "id": "7jtAVqDO76lj"
      },
      "source": [
        "#for selected colmns\r\n",
        "import mysql.connector\r\n",
        "\r\n",
        "mydb = mysql.connector.connect(\r\n",
        "  host=\"localhost\",\r\n",
        "  user=\"yourusername\",\r\n",
        "  password=\"yourpassword\",\r\n",
        "  database=\"mydatabase\"\r\n",
        ")\r\n",
        "\r\n",
        "mycursor = mydb.cursor()\r\n",
        "\r\n",
        "mycursor.execute(\"SELECT name, address FROM customers\")\r\n",
        "\r\n",
        "myresult = mycursor.fetchall()\r\n",
        "\r\n",
        "for x in myresult:\r\n",
        "  print(x)"
      ],
      "execution_count": null,
      "outputs": []
    },
    {
      "cell_type": "code",
      "metadata": {
        "id": "k3lDxY2y8EcX"
      },
      "source": [
        "#for selected rows\r\n",
        "import mysql.connector\r\n",
        "\r\n",
        "mydb = mysql.connector.connect(\r\n",
        "  host=\"localhost\",\r\n",
        "  user=\"yourusername\",\r\n",
        "  password=\"yourpassword\",\r\n",
        "  database=\"mydatabase\"\r\n",
        ")\r\n",
        "\r\n",
        "mycursor = mydb.cursor()\r\n",
        "\r\n",
        "mycursor.execute(\"SELECT * FROM customers\")\r\n",
        "\r\n",
        "myresult = mycursor.fetchone()\r\n",
        "\r\n",
        "print(myresult)"
      ],
      "execution_count": null,
      "outputs": []
    },
    {
      "cell_type": "code",
      "metadata": {
        "id": "HEnMtxqK8Gas"
      },
      "source": [
        ""
      ],
      "execution_count": null,
      "outputs": []
    }
  ]
}