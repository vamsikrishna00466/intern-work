{
  "nbformat": 4,
  "nbformat_minor": 0,
  "metadata": {
    "colab": {
      "name": "validation.ipynb",
      "provenance": [],
      "authorship_tag": "ABX9TyOLBu0Qe0IJXT6Q778DXv2z",
      "include_colab_link": true
    },
    "kernelspec": {
      "name": "python3",
      "display_name": "Python 3"
    },
    "language_info": {
      "name": "python"
    }
  },
  "cells": [
    {
      "cell_type": "markdown",
      "metadata": {
        "id": "view-in-github",
        "colab_type": "text"
      },
      "source": [
        "<a href=\"https://colab.research.google.com/github/vamsikrishna00466/intern-work/blob/main/validation.ipynb\" target=\"_parent\"><img src=\"https://colab.research.google.com/assets/colab-badge.svg\" alt=\"Open In Colab\"/></a>"
      ]
    },
    {
      "cell_type": "code",
      "metadata": {
        "id": "Jt1uXx4Ot2cH"
      },
      "source": [
        "import pandas as pd\n",
        "import numpy as np\n",
        "import warnings\n",
        "warnings.filterwarnings('ignore')"
      ],
      "execution_count": 22,
      "outputs": []
    },
    {
      "cell_type": "code",
      "metadata": {
        "id": "BgR5lI5CuqPM"
      },
      "source": [
        "df=pd.read_excel('data.xlsx')"
      ],
      "execution_count": 61,
      "outputs": []
    },
    {
      "cell_type": "code",
      "metadata": {
        "id": "IxQRciJ8uxpf"
      },
      "source": [
        "df = df[['Date', 'Trade', 'Entry Date Time', 'Ex. Date Time', 'EntryPrice', 'Exit Price', 'Profit/Loss']]"
      ],
      "execution_count": 62,
      "outputs": []
    },
    {
      "cell_type": "code",
      "metadata": {
        "colab": {
          "base_uri": "https://localhost:8080/"
        },
        "id": "rMFXy5v8u9B9",
        "outputId": "d4c5923f-24bd-47ed-e59d-08f333938be6"
      },
      "source": [
        "n=0\n",
        "c=0.0004\n",
        "df['cost']=np.nan\n",
        "df['pnl_after']=np.nan\n",
        "for i in range(n,len(df)):\n",
        "  df['cost'][i] = df['EntryPrice'][i] * c\n",
        "  df['pnl_after'][i] = df['Profit/Loss'][i] - df['cost'][i]\n",
        "\n",
        "n=1\n",
        "df['cpl']=np.nan\n",
        "for i in range(n,len(df)):\n",
        "  df['cpl'][0]=df['pnl_after'][0]\n",
        "  df['cpl'][i]=df['pnl_after'][i]+df['cpl'][i-1]\n",
        "\n",
        "n=1\n",
        "x=0\n",
        "df['draw_down']=np.nan\n",
        "for i in range(n,len(df)):\n",
        "  df['draw_down'][0]=df['pnl_after'][0]\n",
        "  if (df['pnl_after'][i]+df['draw_down'][i-1] < x):\n",
        "    df['draw_down'][i] = df['pnl_after'][i]+df['draw_down'][i-1]\n",
        "  else:\n",
        "    df['draw_down'][i] = x\n",
        "\n",
        "TP = df['pnl_after'][1824] + df['cpl'][1825]\n",
        "TP_avg = TP/5\n",
        "MAX_DD = -min(df['draw_down'])\n",
        "CALMAR = TP_avg/MAX_DD\n",
        "\n",
        "CALMAR"
      ],
      "execution_count": 66,
      "outputs": [
        {
          "output_type": "execute_result",
          "data": {
            "text/plain": [
              "0.2641395202885926"
            ]
          },
          "metadata": {
            "tags": []
          },
          "execution_count": 66
        }
      ]
    },
    {
      "cell_type": "code",
      "metadata": {
        "id": "-LS_fEI-yfRQ"
      },
      "source": [
        "\n"
      ],
      "execution_count": 44,
      "outputs": []
    }
  ]
}