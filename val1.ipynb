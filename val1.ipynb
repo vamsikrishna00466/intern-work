{
  "nbformat": 4,
  "nbformat_minor": 0,
  "metadata": {
    "colab": {
      "name": "val1.ipynb",
      "provenance": [],
      "authorship_tag": "ABX9TyNStRt3TQY58JVRk3gepI8B",
      "include_colab_link": true
    },
    "kernelspec": {
      "name": "python3",
      "display_name": "Python 3"
    },
    "language_info": {
      "name": "python"
    }
  },
  "cells": [
    {
      "cell_type": "markdown",
      "metadata": {
        "id": "view-in-github",
        "colab_type": "text"
      },
      "source": [
        "<a href=\"https://colab.research.google.com/github/vamsikrishna00466/intern-work/blob/main/val1.ipynb\" target=\"_parent\"><img src=\"https://colab.research.google.com/assets/colab-badge.svg\" alt=\"Open In Colab\"/></a>"
      ]
    },
    {
      "cell_type": "code",
      "metadata": {
        "id": "vsq_AvwpPMHQ"
      },
      "source": [
        "import pandas as pd\n",
        "import numpy as np\n",
        "import warnings\n",
        "warnings.filterwarnings('ignore')"
      ],
      "execution_count": 2,
      "outputs": []
    },
    {
      "cell_type": "code",
      "metadata": {
        "id": "hcX-o9GhPNbX"
      },
      "source": [
        "df=pd.read_excel('/content/19-03-21_result.xlsx')"
      ],
      "execution_count": 115,
      "outputs": []
    },
    {
      "cell_type": "code",
      "metadata": {
        "id": "mqR1fJiKPfU6"
      },
      "source": [
        "df = df[['Date', 'Trade', 'Entry Date Time', 'Ex. Date Time', 'EntryPrice', 'year', 'Exit Price', 'Profit/Loss']]"
      ],
      "execution_count": 116,
      "outputs": []
    },
    {
      "cell_type": "code",
      "metadata": {
        "colab": {
          "base_uri": "https://localhost:8080/",
          "height": 204
        },
        "id": "nYV4wL1qPcq7",
        "outputId": "b7cd0f25-850b-4a7e-849a-099f6c090530"
      },
      "source": [
        "df.tail()"
      ],
      "execution_count": 117,
      "outputs": [
        {
          "output_type": "execute_result",
          "data": {
            "text/html": [
              "<div>\n",
              "<style scoped>\n",
              "    .dataframe tbody tr th:only-of-type {\n",
              "        vertical-align: middle;\n",
              "    }\n",
              "\n",
              "    .dataframe tbody tr th {\n",
              "        vertical-align: top;\n",
              "    }\n",
              "\n",
              "    .dataframe thead th {\n",
              "        text-align: right;\n",
              "    }\n",
              "</style>\n",
              "<table border=\"1\" class=\"dataframe\">\n",
              "  <thead>\n",
              "    <tr style=\"text-align: right;\">\n",
              "      <th></th>\n",
              "      <th>Date</th>\n",
              "      <th>Trade</th>\n",
              "      <th>Entry Date Time</th>\n",
              "      <th>Ex. Date Time</th>\n",
              "      <th>EntryPrice</th>\n",
              "      <th>year</th>\n",
              "      <th>Exit Price</th>\n",
              "      <th>Profit/Loss</th>\n",
              "    </tr>\n",
              "  </thead>\n",
              "  <tbody>\n",
              "    <tr>\n",
              "      <th>1821</th>\n",
              "      <td>2019-10-25</td>\n",
              "      <td>Long</td>\n",
              "      <td>2019-10-25 14:30:00</td>\n",
              "      <td>2019-10-25 15:15:00</td>\n",
              "      <td>29278.15</td>\n",
              "      <td>2019</td>\n",
              "      <td>29399.75</td>\n",
              "      <td>121.60</td>\n",
              "    </tr>\n",
              "    <tr>\n",
              "      <th>1822</th>\n",
              "      <td>2019-10-29</td>\n",
              "      <td>Long</td>\n",
              "      <td>2019-10-29 10:55:00</td>\n",
              "      <td>2019-10-29 15:15:00</td>\n",
              "      <td>29625.60</td>\n",
              "      <td>2019</td>\n",
              "      <td>29871.00</td>\n",
              "      <td>245.40</td>\n",
              "    </tr>\n",
              "    <tr>\n",
              "      <th>1823</th>\n",
              "      <td>2019-10-30</td>\n",
              "      <td>Short</td>\n",
              "      <td>2019-10-30 09:30:00</td>\n",
              "      <td>2019-10-30 10:15:00</td>\n",
              "      <td>29818.05</td>\n",
              "      <td>2019</td>\n",
              "      <td>30019.95</td>\n",
              "      <td>-201.90</td>\n",
              "    </tr>\n",
              "    <tr>\n",
              "      <th>1824</th>\n",
              "      <td>2019-10-30</td>\n",
              "      <td>Long</td>\n",
              "      <td>2019-10-30 10:20:00</td>\n",
              "      <td>2019-10-30 13:55:00</td>\n",
              "      <td>30020.60</td>\n",
              "      <td>2019</td>\n",
              "      <td>29975.50</td>\n",
              "      <td>-45.10</td>\n",
              "    </tr>\n",
              "    <tr>\n",
              "      <th>1825</th>\n",
              "      <td>2019-10-30</td>\n",
              "      <td>Short</td>\n",
              "      <td>2019-10-30 14:35:00</td>\n",
              "      <td>2019-10-30 15:15:00</td>\n",
              "      <td>29944.70</td>\n",
              "      <td>2019</td>\n",
              "      <td>29968.45</td>\n",
              "      <td>-23.75</td>\n",
              "    </tr>\n",
              "  </tbody>\n",
              "</table>\n",
              "</div>"
            ],
            "text/plain": [
              "            Date  Trade      Entry Date Time  ...  year  Exit Price  Profit/Loss\n",
              "1821  2019-10-25   Long  2019-10-25 14:30:00  ...  2019    29399.75       121.60\n",
              "1822  2019-10-29   Long  2019-10-29 10:55:00  ...  2019    29871.00       245.40\n",
              "1823  2019-10-30  Short  2019-10-30 09:30:00  ...  2019    30019.95      -201.90\n",
              "1824  2019-10-30   Long  2019-10-30 10:20:00  ...  2019    29975.50       -45.10\n",
              "1825  2019-10-30  Short  2019-10-30 14:35:00  ...  2019    29968.45       -23.75\n",
              "\n",
              "[5 rows x 8 columns]"
            ]
          },
          "metadata": {
            "tags": []
          },
          "execution_count": 117
        }
      ]
    },
    {
      "cell_type": "code",
      "metadata": {
        "colab": {
          "base_uri": "https://localhost:8080/",
          "height": 80
        },
        "id": "gUHqfhbJyQc6",
        "outputId": "26a3a2b3-5ef9-43ef-b8a4-8ebf866cc164"
      },
      "source": [
        "df.loc[df['Date']== '2019-09-20']\n"
      ],
      "execution_count": 118,
      "outputs": [
        {
          "output_type": "execute_result",
          "data": {
            "text/html": [
              "<div>\n",
              "<style scoped>\n",
              "    .dataframe tbody tr th:only-of-type {\n",
              "        vertical-align: middle;\n",
              "    }\n",
              "\n",
              "    .dataframe tbody tr th {\n",
              "        vertical-align: top;\n",
              "    }\n",
              "\n",
              "    .dataframe thead th {\n",
              "        text-align: right;\n",
              "    }\n",
              "</style>\n",
              "<table border=\"1\" class=\"dataframe\">\n",
              "  <thead>\n",
              "    <tr style=\"text-align: right;\">\n",
              "      <th></th>\n",
              "      <th>Date</th>\n",
              "      <th>Trade</th>\n",
              "      <th>Entry Date Time</th>\n",
              "      <th>Ex. Date Time</th>\n",
              "      <th>EntryPrice</th>\n",
              "      <th>year</th>\n",
              "      <th>Exit Price</th>\n",
              "      <th>Profit/Loss</th>\n",
              "    </tr>\n",
              "  </thead>\n",
              "  <tbody>\n",
              "    <tr>\n",
              "      <th>1785</th>\n",
              "      <td>2019-09-20</td>\n",
              "      <td>Long</td>\n",
              "      <td>2019-09-20 09:25:00</td>\n",
              "      <td>2019-09-20 14:40:00</td>\n",
              "      <td>26897.8</td>\n",
              "      <td>2019</td>\n",
              "      <td>29089.85</td>\n",
              "      <td>2192.05</td>\n",
              "    </tr>\n",
              "  </tbody>\n",
              "</table>\n",
              "</div>"
            ],
            "text/plain": [
              "            Date Trade      Entry Date Time  ...  year  Exit Price  Profit/Loss\n",
              "1785  2019-09-20  Long  2019-09-20 09:25:00  ...  2019    29089.85      2192.05\n",
              "\n",
              "[1 rows x 8 columns]"
            ]
          },
          "metadata": {
            "tags": []
          },
          "execution_count": 118
        }
      ]
    },
    {
      "cell_type": "code",
      "metadata": {
        "id": "4rpQ3KW_RicD"
      },
      "source": [
        "df1 = df.groupby('Date')['Profit/Loss'].agg(['sum'])"
      ],
      "execution_count": 119,
      "outputs": []
    },
    {
      "cell_type": "code",
      "metadata": {
        "colab": {
          "base_uri": "https://localhost:8080/"
        },
        "id": "sjtQduJCxPqb",
        "outputId": "23765bbf-2456-413b-a172-2aa4b05edc76"
      },
      "source": [
        "df1['sum'].sort_values(ascending=False)"
      ],
      "execution_count": 120,
      "outputs": [
        {
          "output_type": "execute_result",
          "data": {
            "text/plain": [
              "Date\n",
              "2019-09-20    2192.05\n",
              "2015-06-02     642.45\n",
              "2019-09-17     614.55\n",
              "2015-05-06     614.10\n",
              "2019-07-19     605.05\n",
              "               ...   \n",
              "2019-06-10    -453.95\n",
              "2019-08-23    -458.05\n",
              "2019-10-11    -494.75\n",
              "2019-07-05    -596.40\n",
              "2018-09-28    -651.60\n",
              "Name: sum, Length: 1162, dtype: float64"
            ]
          },
          "metadata": {
            "tags": []
          },
          "execution_count": 120
        }
      ]
    },
    {
      "cell_type": "code",
      "metadata": {
        "id": "Lc6e8xX_Yllc"
      },
      "source": [
        "max_perday=sum(df['Profit/Loss'])"
      ],
      "execution_count": 121,
      "outputs": []
    },
    {
      "cell_type": "code",
      "metadata": {
        "id": "9BN67JlHw_oc"
      },
      "source": [
        "min_perday=max(df1['sum'])"
      ],
      "execution_count": 122,
      "outputs": []
    },
    {
      "cell_type": "code",
      "metadata": {
        "colab": {
          "base_uri": "https://localhost:8080/"
        },
        "id": "1QB3-pirw_fH",
        "outputId": "110735f6-1084-4ead-ccb5-e9fb8804b9f1"
      },
      "source": [
        "min(df1['sum'])"
      ],
      "execution_count": 123,
      "outputs": [
        {
          "output_type": "execute_result",
          "data": {
            "text/plain": [
              "-651.5999999999985"
            ]
          },
          "metadata": {
            "tags": []
          },
          "execution_count": 123
        }
      ]
    },
    {
      "cell_type": "code",
      "metadata": {
        "id": "Vx-Efi3vTpR0"
      },
      "source": [
        "total=len(df1)"
      ],
      "execution_count": 124,
      "outputs": []
    },
    {
      "cell_type": "code",
      "metadata": {
        "colab": {
          "base_uri": "https://localhost:8080/"
        },
        "id": "V91VQZZjylXw",
        "outputId": "200fa807-e42e-4948-e61b-a419b11ac903"
      },
      "source": [
        "640*total"
      ],
      "execution_count": 125,
      "outputs": [
        {
          "output_type": "execute_result",
          "data": {
            "text/plain": [
              "743680"
            ]
          },
          "metadata": {
            "tags": []
          },
          "execution_count": 125
        }
      ]
    },
    {
      "cell_type": "code",
      "metadata": {
        "id": "VSIdDCbeWfjI"
      },
      "source": [
        "neg_count = len(list(filter(lambda x: (x < 0), df1['sum']))) \n",
        "  \n",
        "# we can also do len(list1) - neg_count \n",
        "pos_count = len(list(filter(lambda x: (x >= 0), df1['sum']))) "
      ],
      "execution_count": 126,
      "outputs": []
    },
    {
      "cell_type": "code",
      "metadata": {
        "colab": {
          "base_uri": "https://localhost:8080/"
        },
        "id": "kJremEl2TlHE",
        "outputId": "a36459aa-a298-48ca-cd68-5fbd38ae969b"
      },
      "source": [
        "print(\"Positive numbers in the list: \", pos_count) \n",
        "print(\"Negative numbers in the list: \", neg_count) "
      ],
      "execution_count": 127,
      "outputs": [
        {
          "output_type": "stream",
          "text": [
            "Positive numbers in the list:  575\n",
            "Negative numbers in the list:  587\n"
          ],
          "name": "stdout"
        }
      ]
    },
    {
      "cell_type": "code",
      "metadata": {
        "id": "h5roKBzyW6LM"
      },
      "source": [
        "days_neghative = (neg_count/total)*100\n",
        "days_positive = (pos_count/total)*100"
      ],
      "execution_count": 128,
      "outputs": []
    },
    {
      "cell_type": "code",
      "metadata": {
        "id": "ElqZROXKXhr3"
      },
      "source": [
        "pos_sum = sum(list(filter(lambda x: (x >= 0), df1['sum']))) \n",
        "neg_sum = sum(list(filter(lambda x: (x < 0), df1['sum']))) "
      ],
      "execution_count": 129,
      "outputs": []
    },
    {
      "cell_type": "code",
      "metadata": {
        "id": "PUP_gWT5aS0W"
      },
      "source": [
        "df3 = pd.DataFrame(columns=['index','values'])"
      ],
      "execution_count": 130,
      "outputs": []
    },
    {
      "cell_type": "code",
      "metadata": {
        "id": "8Buhcs1F7u-b"
      },
      "source": [
        "avg_profit_on_win_days=pos_sum/pos_count\n",
        "avg_loss_on_loss_days=neg_sum/neg_count\n",
        "max_consecutive_win=np.nan\n",
        "max_consecutive_loss=np.nan\n",
        "max_consecutive_draw=np.nan\n",
        "perday_profit_loss=max(df1['sum'])\n",
        "max_profit=pos_sum\n",
        "max_loss=neg_sum"
      ],
      "execution_count": 131,
      "outputs": []
    },
    {
      "cell_type": "code",
      "metadata": {
        "id": "eL_Q-7cU4P6Y"
      },
      "source": [
        "#days_neghative(%)\n",
        "index='days_neghative(%)'\n",
        "df3=df3.append({'index':index,\n",
        "                'values':days_neghative},\n",
        "               ignore_index=True)\n",
        "\n",
        "\n",
        "#avg_profit_on_win_days\n",
        "index='avg_profit_on_win_days'\n",
        "df3=df3.append({'index':index,\n",
        "                'values':avg_profit_on_win_days},\n",
        "               ignore_index=True)\n",
        "\n",
        "#avg_loss_on_loss_days\n",
        "index='avg_loss_on_loss_days'\n",
        "df3=df3.append({'index':index,\n",
        "                'values':avg_loss_on_loss_days},\n",
        "               ignore_index=True)\n",
        "\n",
        "#max_consecutive_win\n",
        "index='max_consecutive_win'\n",
        "df3=df3.append({'index':index,\n",
        "                'values':max_consecutive_win},\n",
        "               ignore_index=True)\n",
        "\n",
        "#max_consecutive_loss\n",
        "index='max_consecutive_loss'\n",
        "df3=df3.append({'index':index,\n",
        "                'values':max_consecutive_loss},\n",
        "               ignore_index=True)\n",
        "\n",
        "#max_consecutive_draw\n",
        "index='max_consecutive_draw'\n",
        "df3=df3.append({'index':index,\n",
        "                'values':max_consecutive_draw},\n",
        "               ignore_index=True)\n",
        "\n",
        "#perday_profit_loss\n",
        "index='perday_profit_loss'\n",
        "df3=df3.append({'index':index,\n",
        "                'values':perday_profit_loss},\n",
        "               ignore_index=True)\n",
        "\n",
        "#max_profit\n",
        "index='max_profit'\n",
        "df3=df3.append({'index':index,\n",
        "                'values':max_profit},\n",
        "               ignore_index=True)\n",
        "\n",
        "#max_loss\n",
        "index='max_loss'\n",
        "df3=df3.append({'index':index,\n",
        "                'values':max_loss},\n",
        "               ignore_index=True)"
      ],
      "execution_count": 132,
      "outputs": []
    },
    {
      "cell_type": "code",
      "metadata": {
        "colab": {
          "base_uri": "https://localhost:8080/",
          "height": 328
        },
        "id": "S2cOguyW4PYv",
        "outputId": "db329d85-b0be-4d7c-d42d-7560fd338ef5"
      },
      "source": [
        "df3"
      ],
      "execution_count": 133,
      "outputs": [
        {
          "output_type": "execute_result",
          "data": {
            "text/html": [
              "<div>\n",
              "<style scoped>\n",
              "    .dataframe tbody tr th:only-of-type {\n",
              "        vertical-align: middle;\n",
              "    }\n",
              "\n",
              "    .dataframe tbody tr th {\n",
              "        vertical-align: top;\n",
              "    }\n",
              "\n",
              "    .dataframe thead th {\n",
              "        text-align: right;\n",
              "    }\n",
              "</style>\n",
              "<table border=\"1\" class=\"dataframe\">\n",
              "  <thead>\n",
              "    <tr style=\"text-align: right;\">\n",
              "      <th></th>\n",
              "      <th>index</th>\n",
              "      <th>values</th>\n",
              "    </tr>\n",
              "  </thead>\n",
              "  <tbody>\n",
              "    <tr>\n",
              "      <th>0</th>\n",
              "      <td>days_neghative(%)</td>\n",
              "      <td>50.516351</td>\n",
              "    </tr>\n",
              "    <tr>\n",
              "      <th>1</th>\n",
              "      <td>avg_profit_on_win_days</td>\n",
              "      <td>140.499130</td>\n",
              "    </tr>\n",
              "    <tr>\n",
              "      <th>2</th>\n",
              "      <td>avg_loss_on_loss_days</td>\n",
              "      <td>-96.819847</td>\n",
              "    </tr>\n",
              "    <tr>\n",
              "      <th>3</th>\n",
              "      <td>max_consecutive_win</td>\n",
              "      <td>NaN</td>\n",
              "    </tr>\n",
              "    <tr>\n",
              "      <th>4</th>\n",
              "      <td>max_consecutive_loss</td>\n",
              "      <td>NaN</td>\n",
              "    </tr>\n",
              "    <tr>\n",
              "      <th>5</th>\n",
              "      <td>max_consecutive_draw</td>\n",
              "      <td>NaN</td>\n",
              "    </tr>\n",
              "    <tr>\n",
              "      <th>6</th>\n",
              "      <td>perday_profit_loss</td>\n",
              "      <td>2192.050000</td>\n",
              "    </tr>\n",
              "    <tr>\n",
              "      <th>7</th>\n",
              "      <td>max_profit</td>\n",
              "      <td>80787.000000</td>\n",
              "    </tr>\n",
              "    <tr>\n",
              "      <th>8</th>\n",
              "      <td>max_loss</td>\n",
              "      <td>-56833.250000</td>\n",
              "    </tr>\n",
              "  </tbody>\n",
              "</table>\n",
              "</div>"
            ],
            "text/plain": [
              "                    index        values\n",
              "0       days_neghative(%)     50.516351\n",
              "1  avg_profit_on_win_days    140.499130\n",
              "2   avg_loss_on_loss_days    -96.819847\n",
              "3     max_consecutive_win           NaN\n",
              "4    max_consecutive_loss           NaN\n",
              "5    max_consecutive_draw           NaN\n",
              "6      perday_profit_loss   2192.050000\n",
              "7              max_profit  80787.000000\n",
              "8                max_loss -56833.250000"
            ]
          },
          "metadata": {
            "tags": []
          },
          "execution_count": 133
        }
      ]
    },
    {
      "cell_type": "code",
      "metadata": {
        "id": "FGQciioT5I50"
      },
      "source": [
        "df=pd.read_excel('/content/19-03-21_result.xlsx')"
      ],
      "execution_count": 134,
      "outputs": []
    },
    {
      "cell_type": "code",
      "metadata": {
        "colab": {
          "base_uri": "https://localhost:8080/"
        },
        "id": "6dbK-4DGBeM-",
        "outputId": "d198fe33-a90b-459a-b1c6-3d88f6baebc6"
      },
      "source": [
        "df = df[['Date', 'Trade', 'Entry Date Time', 'Ex. Date Time', 'EntryPrice', 'year', 'Exit Price', 'Profit/Loss']]\n",
        "df_2015 = df.loc[df['year'] == 2015]\n",
        "df_2016 = df.loc[df['year'] == 2016]\n",
        "df_2017 = df.loc[df['year'] == 2017]\n",
        "df_2018 = df.loc[df['year'] == 2018]\n",
        "df_2019 = df.loc[df['year'] == 2019]\n",
        "print('df_2015.shape:', df_2015.shape)\n",
        "print('df_2016.shape:', df_2016.shape)\n",
        "print('df_2017.shape:', df_2017.shape)\n",
        "print('df_2018.shape:', df_2018.shape)\n",
        "print('df_2019.shape:', df_2019.shape)"
      ],
      "execution_count": 135,
      "outputs": [
        {
          "output_type": "stream",
          "text": [
            "df_2015.shape: (371, 8)\n",
            "df_2016.shape: (390, 8)\n",
            "df_2017.shape: (378, 8)\n",
            "df_2018.shape: (375, 8)\n",
            "df_2019.shape: (312, 8)\n"
          ],
          "name": "stdout"
        }
      ]
    },
    {
      "cell_type": "code",
      "metadata": {
        "colab": {
          "base_uri": "https://localhost:8080/"
        },
        "id": "HR1B2wOIBg5N",
        "outputId": "0956dfea-2bf2-4bcc-c463-259737ac019e"
      },
      "source": [
        "avg_yearly_points_combined=df['Profit/Loss'].sum(axis = 0, skipna = True) \n",
        "avg_yearly_points_combined = avg_yearly_points_combined/5\n",
        "avg_yearly_points_2015=df_2015['Profit/Loss'].sum(axis = 0, skipna = True) \n",
        "avg_yearly_points_2016=df_2016['Profit/Loss'].sum(axis = 0, skipna = True) \n",
        "avg_yearly_points_2017=df_2017['Profit/Loss'].sum(axis = 0, skipna = True) \n",
        "avg_yearly_points_2018=df_2018['Profit/Loss'].sum(axis = 0, skipna = True) \n",
        "avg_yearly_points_2019=df_2019['Profit/Loss'].sum(axis = 0, skipna = True) \n",
        "print('avg_yearly_points_combined:', avg_yearly_points_combined)\n",
        "print('avg_yearly_points_2015:', avg_yearly_points_2015)\n",
        "print('avg_yearly_points_2016:', avg_yearly_points_2016)\n",
        "print('avg_yearly_points_2017:', avg_yearly_points_2017)\n",
        "print('avg_yearly_points_2018:', avg_yearly_points_2018)\n",
        "print('avg_yearly_points_2019:', avg_yearly_points_2019)"
      ],
      "execution_count": 136,
      "outputs": [
        {
          "output_type": "stream",
          "text": [
            "avg_yearly_points_combined: 4790.749999999987\n",
            "avg_yearly_points_2015: 7450.099999999989\n",
            "avg_yearly_points_2016: 2625.2999999999424\n",
            "avg_yearly_points_2017: -866.1999999999534\n",
            "avg_yearly_points_2018: 4705.049999999974\n",
            "avg_yearly_points_2019: 10039.499999999982\n"
          ],
          "name": "stdout"
        }
      ]
    },
    {
      "cell_type": "code",
      "metadata": {
        "colab": {
          "base_uri": "https://localhost:8080/"
        },
        "id": "hbpRbHNCBjbO",
        "outputId": "57e96a25-93c1-4491-9d29-03e2d80417d0"
      },
      "source": [
        "#TP index need to update based on shape above\n",
        "n=0\n",
        "c=0.0004\n",
        "df['cost']=np.nan\n",
        "df['pnl_after']=np.nan\n",
        "for i in range(n,len(df)):\n",
        "  df['cost'][i] = df['EntryPrice'][i] * c\n",
        "  df['pnl_after'][i] = df['Profit/Loss'][i] - df['cost'][i]\n",
        "\n",
        "n=1\n",
        "df['cpl']=np.nan\n",
        "for i in range(n,len(df)):\n",
        "  df['cpl'][0]=df['pnl_after'][0]\n",
        "  df['cpl'][i]=df['pnl_after'][i]+df['cpl'][i-1]\n",
        "\n",
        "n=1\n",
        "x=0\n",
        "df['draw_down']=np.nan\n",
        "for i in range(n,len(df)):\n",
        "  df['draw_down'][0]=df['pnl_after'][0]\n",
        "  if (df['pnl_after'][i]+df['draw_down'][i-1] < x):\n",
        "    df['draw_down'][i] = df['pnl_after'][i]+df['draw_down'][i-1]\n",
        "  else:\n",
        "    df['draw_down'][i] = x\n",
        "\n",
        "TP = df['pnl_after'][1824] + df['cpl'][1825]\n",
        "TP_avg = TP/5\n",
        "MAX_DD = min(df['draw_down'])\n",
        "CALMAR = TP_avg/MAX_DD\n",
        "print('calmar:', CALMAR)\n",
        "print('MAX_DD:', MAX_DD)\n",
        "\n",
        "\n",
        "#2015\n",
        "n=0\n",
        "c=0.0004\n",
        "df=df_2015.copy()\n",
        "df['cost']=np.nan\n",
        "df['pnl_after']=np.nan\n",
        "for i in range(n,len(df)):\n",
        "  df['cost'][i] = df['EntryPrice'][i] * c\n",
        "  df['pnl_after'][i] = df['Profit/Loss'][i] - df['cost'][i]\n",
        "\n",
        "n=1\n",
        "df['cpl']=np.nan\n",
        "for i in range(n,len(df)):\n",
        "  df['cpl'][0]=df['pnl_after'][0]\n",
        "  df['cpl'][i]=df['pnl_after'][i]+df['cpl'][i-1]\n",
        "\n",
        "n=1\n",
        "x=0\n",
        "df['draw_down']=np.nan\n",
        "for i in range(n,len(df)):\n",
        "  df['draw_down'][0]=df['pnl_after'][0]\n",
        "  if (df['pnl_after'][i]+df['draw_down'][i-1] < x):\n",
        "    df['draw_down'][i] = df['pnl_after'][i]+df['draw_down'][i-1]\n",
        "  else:\n",
        "    df['draw_down'][i] = x\n",
        "\n",
        "TP = df['pnl_after'][369] + df['cpl'][370]\n",
        "TP_avg = TP/5\n",
        "MAX_DD_2015 = min(df['draw_down'])\n",
        "CALMAR_2015 = TP_avg/MAX_DD_2015\n",
        "\n",
        "print('calmar_2015:', CALMAR_2015)\n",
        "print('MAX_DD_2015:', MAX_DD_2015)\n",
        "\n",
        "\n",
        "\n",
        "#2016\n",
        "n=0\n",
        "c=0.0004\n",
        "df=df_2016.copy()\n",
        "df=df.reset_index()\n",
        "df['cost']=np.nan\n",
        "df['pnl_after']=np.nan\n",
        "for i in range(n,len(df)):\n",
        "  df['cost'][i] = df['EntryPrice'][i] * c\n",
        "  df['pnl_after'][i] = df['Profit/Loss'][i] - df['cost'][i]\n",
        "\n",
        "n=1\n",
        "df['cpl']=np.nan\n",
        "for i in range(n,len(df)):\n",
        "  df['cpl'][0]=df['pnl_after'][0]\n",
        "  df['cpl'][i]=df['pnl_after'][i]+df['cpl'][i-1]\n",
        "\n",
        "n=1\n",
        "x=0\n",
        "df['draw_down']=np.nan\n",
        "for i in range(n,len(df)):\n",
        "  df['draw_down'][0]=df['pnl_after'][0]\n",
        "  if (df['pnl_after'][i]+df['draw_down'][i-1] < x):\n",
        "    df['draw_down'][i] = df['pnl_after'][i]+df['draw_down'][i-1]\n",
        "  else:\n",
        "    df['draw_down'][i] = x\n",
        "\n",
        "TP = df['pnl_after'][388] + df['cpl'][389]\n",
        "TP_avg = TP/5\n",
        "MAX_DD_2016 = min(df['draw_down'])\n",
        "CALMAR_2016 = TP_avg/MAX_DD_2016\n",
        "\n",
        "print('calmar_2016:', CALMAR_2016)\n",
        "print('MAX_DD_2016:', MAX_DD_2016)\n",
        "\n",
        "#2017\n",
        "n=0\n",
        "c=0.0004\n",
        "df=df_2017.copy()\n",
        "df=df.reset_index()\n",
        "df['cost']=np.nan\n",
        "df['pnl_after']=np.nan\n",
        "for i in range(n,len(df)):\n",
        "  df['cost'][i] = df['EntryPrice'][i] * c\n",
        "  df['pnl_after'][i] = df['Profit/Loss'][i] - df['cost'][i]\n",
        "\n",
        "n=1\n",
        "df['cpl']=np.nan\n",
        "for i in range(n,len(df)):\n",
        "  df['cpl'][0]=df['pnl_after'][0]\n",
        "  df['cpl'][i]=df['pnl_after'][i]+df['cpl'][i-1]\n",
        "\n",
        "n=1\n",
        "x=0\n",
        "df['draw_down']=np.nan\n",
        "for i in range(n,len(df)):\n",
        "  df['draw_down'][0]=df['pnl_after'][0]\n",
        "  if (df['pnl_after'][i]+df['draw_down'][i-1] < x):\n",
        "    df['draw_down'][i] = df['pnl_after'][i]+df['draw_down'][i-1]\n",
        "  else:\n",
        "    df['draw_down'][i] = x\n",
        "\n",
        "TP = df['pnl_after'][376] + df['cpl'][377]\n",
        "TP_avg = TP/5\n",
        "MAX_DD_2017 = min(df['draw_down'])\n",
        "CALMAR_2017 = TP_avg/MAX_DD_2017\n",
        "\n",
        "print('calmar_2017:', CALMAR_2017)\n",
        "print('MAX_DD_2017:', MAX_DD_2017)\n",
        "\n",
        "#2018\n",
        "n=0\n",
        "c=0.0004\n",
        "df=df_2018.copy()\n",
        "df=df.reset_index()\n",
        "df['cost']=np.nan\n",
        "df['pnl_after']=np.nan\n",
        "for i in range(n,len(df)):\n",
        "  df['cost'][i] = df['EntryPrice'][i] * c\n",
        "  df['pnl_after'][i] = df['Profit/Loss'][i] - df['cost'][i]\n",
        "\n",
        "n=1\n",
        "df['cpl']=np.nan\n",
        "for i in range(n,len(df)):\n",
        "  df['cpl'][0]=df['pnl_after'][0]\n",
        "  df['cpl'][i]=df['pnl_after'][i]+df['cpl'][i-1]\n",
        "\n",
        "n=1\n",
        "x=0\n",
        "df['draw_down']=np.nan\n",
        "for i in range(n,len(df)):\n",
        "  df['draw_down'][0]=df['pnl_after'][0]\n",
        "  if (df['pnl_after'][i]+df['draw_down'][i-1] < x):\n",
        "    df['draw_down'][i] = df['pnl_after'][i]+df['draw_down'][i-1]\n",
        "  else:\n",
        "    df['draw_down'][i] = x\n",
        "\n",
        "TP = df['pnl_after'][373] + df['cpl'][374]\n",
        "TP_avg = TP/5\n",
        "MAX_DD_2018 = min(df['draw_down'])\n",
        "CALMAR_2018 = TP_avg/MAX_DD_2018\n",
        "\n",
        "print('calmar_2018:', CALMAR_2018)\n",
        "print('MAX_DD_2018:', MAX_DD_2018)\n",
        "\n",
        "\n",
        "#2019\n",
        "n=0\n",
        "c=0.0004\n",
        "df=df_2019.copy()\n",
        "df=df.reset_index()\n",
        "df['cost']=np.nan\n",
        "df['pnl_after']=np.nan\n",
        "for i in range(n,len(df)):\n",
        "  df['cost'][i] = df['EntryPrice'][i] * c\n",
        "  df['pnl_after'][i] = df['Profit/Loss'][i] - df['cost'][i]\n",
        "\n",
        "n=1\n",
        "df['cpl']=np.nan\n",
        "for i in range(n,len(df)):\n",
        "  df['cpl'][0]=df['pnl_after'][0]\n",
        "  df['cpl'][i]=df['pnl_after'][i]+df['cpl'][i-1]\n",
        "\n",
        "n=1\n",
        "x=0\n",
        "df['draw_down']=np.nan\n",
        "for i in range(n,len(df)):\n",
        "  df['draw_down'][0]=df['pnl_after'][0]\n",
        "  if (df['pnl_after'][i]+df['draw_down'][i-1] < x):\n",
        "    df['draw_down'][i] = df['pnl_after'][i]+df['draw_down'][i-1]\n",
        "  else:\n",
        "    df['draw_down'][i] = x\n",
        "\n",
        "TP = df['pnl_after'][310] + df['cpl'][311]\n",
        "TP_avg = TP/5\n",
        "MAX_DD_2019 = min(df['draw_down'])\n",
        "CALMAR_2019 = TP_avg/MAX_DD_2019\n",
        "\n",
        "print('calmar_2019:', CALMAR_2019)\n",
        "print('MAX_DD_2019:', MAX_DD_2019)\n"
      ],
      "execution_count": 137,
      "outputs": [
        {
          "output_type": "stream",
          "text": [
            "calmar: -0.2641395202885926\n",
            "MAX_DD: -5649.607579999965\n",
            "calmar_2015: -1.2671250888416967\n",
            "MAX_DD_2015: -756.0076399999966\n",
            "calmar_2016: 0.005890342981900025\n",
            "MAX_DD_2016: -1351.9477600000148\n",
            "calmar_2017: 0.18782941066666206\n",
            "MAX_DD_2017: -4674.734019999969\n",
            "calmar_2018: -0.11714528596080781\n",
            "MAX_DD_2018: -1434.630840000009\n",
            "calmar_2019: -0.9186123120991765\n",
            "MAX_DD_2019: -1385.373180000008\n"
          ],
          "name": "stdout"
        }
      ]
    },
    {
      "cell_type": "code",
      "metadata": {
        "id": "YjwicIAvBnma"
      },
      "source": [
        "df1 = pd.DataFrame(columns=[\"index\",\"combined\",\"2015\",\"2016\",\"2017\",\"2018\",\"2019\"])\n",
        "index='avg_yearly_points'\n",
        "df1=df1.append({'index':index,\n",
        "                'combined':avg_yearly_points_combined,\n",
        "                '2015':avg_yearly_points_2015,\n",
        "                '2016':avg_yearly_points_2016,\n",
        "                '2017':avg_yearly_points_2017,\n",
        "                '2018':avg_yearly_points_2018,\n",
        "                '2019':avg_yearly_points_2019},\n",
        "               ignore_index=True)\n",
        "\n",
        "index='max_drawdown'\n",
        "df1=df1.append({'index':index,\n",
        "                'combined':MAX_DD,\n",
        "                '2015':MAX_DD_2015,\n",
        "                '2016':MAX_DD_2016,\n",
        "                '2017':MAX_DD_2017,\n",
        "                '2018':MAX_DD_2018,\n",
        "                '2019':MAX_DD_2019},\n",
        "               ignore_index=True)\n",
        "\n",
        "index='calmar'\n",
        "df1=df1.append({'index':index,\n",
        "                'combined':CALMAR,\n",
        "                '2015':CALMAR_2015,\n",
        "                '2016':CALMAR_2016,\n",
        "                '2017':CALMAR_2017,\n",
        "                '2018':CALMAR_2018,\n",
        "                '2019':CALMAR_2019},\n",
        "               ignore_index=True)"
      ],
      "execution_count": 138,
      "outputs": []
    },
    {
      "cell_type": "code",
      "metadata": {
        "colab": {
          "base_uri": "https://localhost:8080/",
          "height": 142
        },
        "id": "9451KY8FBrLy",
        "outputId": "309b952d-c2c3-441f-9281-275210a79843"
      },
      "source": [
        "df1"
      ],
      "execution_count": 139,
      "outputs": [
        {
          "output_type": "execute_result",
          "data": {
            "text/html": [
              "<div>\n",
              "<style scoped>\n",
              "    .dataframe tbody tr th:only-of-type {\n",
              "        vertical-align: middle;\n",
              "    }\n",
              "\n",
              "    .dataframe tbody tr th {\n",
              "        vertical-align: top;\n",
              "    }\n",
              "\n",
              "    .dataframe thead th {\n",
              "        text-align: right;\n",
              "    }\n",
              "</style>\n",
              "<table border=\"1\" class=\"dataframe\">\n",
              "  <thead>\n",
              "    <tr style=\"text-align: right;\">\n",
              "      <th></th>\n",
              "      <th>index</th>\n",
              "      <th>combined</th>\n",
              "      <th>2015</th>\n",
              "      <th>2016</th>\n",
              "      <th>2017</th>\n",
              "      <th>2018</th>\n",
              "      <th>2019</th>\n",
              "    </tr>\n",
              "  </thead>\n",
              "  <tbody>\n",
              "    <tr>\n",
              "      <th>0</th>\n",
              "      <td>avg_yearly_points</td>\n",
              "      <td>4790.75000</td>\n",
              "      <td>7450.100000</td>\n",
              "      <td>2625.30000</td>\n",
              "      <td>-866.200000</td>\n",
              "      <td>4705.050000</td>\n",
              "      <td>10039.500000</td>\n",
              "    </tr>\n",
              "    <tr>\n",
              "      <th>1</th>\n",
              "      <td>max_drawdown</td>\n",
              "      <td>-5649.60758</td>\n",
              "      <td>-756.007640</td>\n",
              "      <td>-1351.94776</td>\n",
              "      <td>-4674.734020</td>\n",
              "      <td>-1434.630840</td>\n",
              "      <td>-1385.373180</td>\n",
              "    </tr>\n",
              "    <tr>\n",
              "      <th>2</th>\n",
              "      <td>calmar</td>\n",
              "      <td>-0.26414</td>\n",
              "      <td>-1.267125</td>\n",
              "      <td>0.00589</td>\n",
              "      <td>0.187829</td>\n",
              "      <td>-0.117145</td>\n",
              "      <td>-0.918612</td>\n",
              "    </tr>\n",
              "  </tbody>\n",
              "</table>\n",
              "</div>"
            ],
            "text/plain": [
              "               index    combined  ...         2018          2019\n",
              "0  avg_yearly_points  4790.75000  ...  4705.050000  10039.500000\n",
              "1       max_drawdown -5649.60758  ... -1434.630840  -1385.373180\n",
              "2             calmar    -0.26414  ...    -0.117145     -0.918612\n",
              "\n",
              "[3 rows x 7 columns]"
            ]
          },
          "metadata": {
            "tags": []
          },
          "execution_count": 139
        }
      ]
    },
    {
      "cell_type": "code",
      "metadata": {
        "colab": {
          "base_uri": "https://localhost:8080/",
          "height": 328
        },
        "id": "mh3UjZ_wBt_p",
        "outputId": "e2b0c146-860e-441b-e476-0fe5f48ad5c8"
      },
      "source": [
        "df3"
      ],
      "execution_count": 140,
      "outputs": [
        {
          "output_type": "execute_result",
          "data": {
            "text/html": [
              "<div>\n",
              "<style scoped>\n",
              "    .dataframe tbody tr th:only-of-type {\n",
              "        vertical-align: middle;\n",
              "    }\n",
              "\n",
              "    .dataframe tbody tr th {\n",
              "        vertical-align: top;\n",
              "    }\n",
              "\n",
              "    .dataframe thead th {\n",
              "        text-align: right;\n",
              "    }\n",
              "</style>\n",
              "<table border=\"1\" class=\"dataframe\">\n",
              "  <thead>\n",
              "    <tr style=\"text-align: right;\">\n",
              "      <th></th>\n",
              "      <th>index</th>\n",
              "      <th>values</th>\n",
              "    </tr>\n",
              "  </thead>\n",
              "  <tbody>\n",
              "    <tr>\n",
              "      <th>0</th>\n",
              "      <td>days_neghative(%)</td>\n",
              "      <td>50.516351</td>\n",
              "    </tr>\n",
              "    <tr>\n",
              "      <th>1</th>\n",
              "      <td>avg_profit_on_win_days</td>\n",
              "      <td>140.499130</td>\n",
              "    </tr>\n",
              "    <tr>\n",
              "      <th>2</th>\n",
              "      <td>avg_loss_on_loss_days</td>\n",
              "      <td>-96.819847</td>\n",
              "    </tr>\n",
              "    <tr>\n",
              "      <th>3</th>\n",
              "      <td>max_consecutive_win</td>\n",
              "      <td>NaN</td>\n",
              "    </tr>\n",
              "    <tr>\n",
              "      <th>4</th>\n",
              "      <td>max_consecutive_loss</td>\n",
              "      <td>NaN</td>\n",
              "    </tr>\n",
              "    <tr>\n",
              "      <th>5</th>\n",
              "      <td>max_consecutive_draw</td>\n",
              "      <td>NaN</td>\n",
              "    </tr>\n",
              "    <tr>\n",
              "      <th>6</th>\n",
              "      <td>perday_profit_loss</td>\n",
              "      <td>2192.050000</td>\n",
              "    </tr>\n",
              "    <tr>\n",
              "      <th>7</th>\n",
              "      <td>max_profit</td>\n",
              "      <td>80787.000000</td>\n",
              "    </tr>\n",
              "    <tr>\n",
              "      <th>8</th>\n",
              "      <td>max_loss</td>\n",
              "      <td>-56833.250000</td>\n",
              "    </tr>\n",
              "  </tbody>\n",
              "</table>\n",
              "</div>"
            ],
            "text/plain": [
              "                    index        values\n",
              "0       days_neghative(%)     50.516351\n",
              "1  avg_profit_on_win_days    140.499130\n",
              "2   avg_loss_on_loss_days    -96.819847\n",
              "3     max_consecutive_win           NaN\n",
              "4    max_consecutive_loss           NaN\n",
              "5    max_consecutive_draw           NaN\n",
              "6      perday_profit_loss   2192.050000\n",
              "7              max_profit  80787.000000\n",
              "8                max_loss -56833.250000"
            ]
          },
          "metadata": {
            "tags": []
          },
          "execution_count": 140
        }
      ]
    },
    {
      "cell_type": "code",
      "metadata": {
        "colab": {
          "base_uri": "https://localhost:8080/",
          "height": 204
        },
        "id": "k7AE9P9MBxRA",
        "outputId": "65d57e95-ee1b-4a89-b0b7-9d021bcc3fb6"
      },
      "source": [
        "df.tail()"
      ],
      "execution_count": 141,
      "outputs": [
        {
          "output_type": "execute_result",
          "data": {
            "text/html": [
              "<div>\n",
              "<style scoped>\n",
              "    .dataframe tbody tr th:only-of-type {\n",
              "        vertical-align: middle;\n",
              "    }\n",
              "\n",
              "    .dataframe tbody tr th {\n",
              "        vertical-align: top;\n",
              "    }\n",
              "\n",
              "    .dataframe thead th {\n",
              "        text-align: right;\n",
              "    }\n",
              "</style>\n",
              "<table border=\"1\" class=\"dataframe\">\n",
              "  <thead>\n",
              "    <tr style=\"text-align: right;\">\n",
              "      <th></th>\n",
              "      <th>index</th>\n",
              "      <th>Date</th>\n",
              "      <th>Trade</th>\n",
              "      <th>Entry Date Time</th>\n",
              "      <th>Ex. Date Time</th>\n",
              "      <th>EntryPrice</th>\n",
              "      <th>year</th>\n",
              "      <th>Exit Price</th>\n",
              "      <th>Profit/Loss</th>\n",
              "      <th>cost</th>\n",
              "      <th>pnl_after</th>\n",
              "      <th>cpl</th>\n",
              "      <th>draw_down</th>\n",
              "    </tr>\n",
              "  </thead>\n",
              "  <tbody>\n",
              "    <tr>\n",
              "      <th>307</th>\n",
              "      <td>1821</td>\n",
              "      <td>2019-10-25</td>\n",
              "      <td>Long</td>\n",
              "      <td>2019-10-25 14:30:00</td>\n",
              "      <td>2019-10-25 15:15:00</td>\n",
              "      <td>29278.15</td>\n",
              "      <td>2019</td>\n",
              "      <td>29399.75</td>\n",
              "      <td>121.60</td>\n",
              "      <td>11.71126</td>\n",
              "      <td>109.88874</td>\n",
              "      <td>6493.32612</td>\n",
              "      <td>-947.55144</td>\n",
              "    </tr>\n",
              "    <tr>\n",
              "      <th>308</th>\n",
              "      <td>1822</td>\n",
              "      <td>2019-10-29</td>\n",
              "      <td>Long</td>\n",
              "      <td>2019-10-29 10:55:00</td>\n",
              "      <td>2019-10-29 15:15:00</td>\n",
              "      <td>29625.60</td>\n",
              "      <td>2019</td>\n",
              "      <td>29871.00</td>\n",
              "      <td>245.40</td>\n",
              "      <td>11.85024</td>\n",
              "      <td>233.54976</td>\n",
              "      <td>6726.87588</td>\n",
              "      <td>-714.00168</td>\n",
              "    </tr>\n",
              "    <tr>\n",
              "      <th>309</th>\n",
              "      <td>1823</td>\n",
              "      <td>2019-10-30</td>\n",
              "      <td>Short</td>\n",
              "      <td>2019-10-30 09:30:00</td>\n",
              "      <td>2019-10-30 10:15:00</td>\n",
              "      <td>29818.05</td>\n",
              "      <td>2019</td>\n",
              "      <td>30019.95</td>\n",
              "      <td>-201.90</td>\n",
              "      <td>11.92722</td>\n",
              "      <td>-213.82722</td>\n",
              "      <td>6513.04866</td>\n",
              "      <td>-927.82890</td>\n",
              "    </tr>\n",
              "    <tr>\n",
              "      <th>310</th>\n",
              "      <td>1824</td>\n",
              "      <td>2019-10-30</td>\n",
              "      <td>Long</td>\n",
              "      <td>2019-10-30 10:20:00</td>\n",
              "      <td>2019-10-30 13:55:00</td>\n",
              "      <td>30020.60</td>\n",
              "      <td>2019</td>\n",
              "      <td>29975.50</td>\n",
              "      <td>-45.10</td>\n",
              "      <td>12.00824</td>\n",
              "      <td>-57.10824</td>\n",
              "      <td>6455.94042</td>\n",
              "      <td>-984.93714</td>\n",
              "    </tr>\n",
              "    <tr>\n",
              "      <th>311</th>\n",
              "      <td>1825</td>\n",
              "      <td>2019-10-30</td>\n",
              "      <td>Short</td>\n",
              "      <td>2019-10-30 14:35:00</td>\n",
              "      <td>2019-10-30 15:15:00</td>\n",
              "      <td>29944.70</td>\n",
              "      <td>2019</td>\n",
              "      <td>29968.45</td>\n",
              "      <td>-23.75</td>\n",
              "      <td>11.97788</td>\n",
              "      <td>-35.72788</td>\n",
              "      <td>6420.21254</td>\n",
              "      <td>-1020.66502</td>\n",
              "    </tr>\n",
              "  </tbody>\n",
              "</table>\n",
              "</div>"
            ],
            "text/plain": [
              "     index        Date  Trade  ...  pnl_after         cpl   draw_down\n",
              "307   1821  2019-10-25   Long  ...  109.88874  6493.32612  -947.55144\n",
              "308   1822  2019-10-29   Long  ...  233.54976  6726.87588  -714.00168\n",
              "309   1823  2019-10-30  Short  ... -213.82722  6513.04866  -927.82890\n",
              "310   1824  2019-10-30   Long  ...  -57.10824  6455.94042  -984.93714\n",
              "311   1825  2019-10-30  Short  ...  -35.72788  6420.21254 -1020.66502\n",
              "\n",
              "[5 rows x 13 columns]"
            ]
          },
          "metadata": {
            "tags": []
          },
          "execution_count": 141
        }
      ]
    },
    {
      "cell_type": "code",
      "metadata": {
        "id": "HVzaNeJQC-cx"
      },
      "source": [
        ""
      ],
      "execution_count": null,
      "outputs": []
    }
  ]
}